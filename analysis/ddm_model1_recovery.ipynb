{
 "cells": [
  {
   "cell_type": "code",
   "execution_count": 1,
   "id": "df0afd95-9286-4e7d-8376-c7fdf6696791",
   "metadata": {},
   "outputs": [],
   "source": [
    "from helpers.ddmSims.py_ddm_models.util import load_trial_conditions_from_csv"
   ]
  },
  {
   "cell_type": "code",
   "execution_count": null,
   "id": "e78d1918-1102-4f19-8ad2-f790c0c6bf5f",
   "metadata": {},
   "outputs": [],
   "source": []
  }
 ],
 "metadata": {
  "kernelspec": {
   "display_name": "Python 3 (ipykernel)",
   "language": "python",
   "name": "python3"
  },
  "language_info": {
   "codemirror_mode": {
    "name": "ipython",
    "version": 3
   },
   "file_extension": ".py",
   "mimetype": "text/x-python",
   "name": "python",
   "nbconvert_exporter": "python",
   "pygments_lexer": "ipython3",
   "version": "3.8.3"
  }
 },
 "nbformat": 4,
 "nbformat_minor": 5
}
