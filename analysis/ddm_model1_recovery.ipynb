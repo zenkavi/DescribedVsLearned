{
 "cells": [
  {
   "cell_type": "code",
   "execution_count": 1,
   "id": "df0afd95-9286-4e7d-8376-c7fdf6696791",
   "metadata": {},
   "outputs": [],
   "source": [
    "from helpers.ddmSims.py_ddm_models import ddm_model1\n",
    "\n",
    "from itertools import product\n",
    "import pandas as pd\n",
    "import seaborn as sns"
   ]
  },
  {
   "cell_type": "code",
   "execution_count": 2,
   "id": "e78d1918-1102-4f19-8ad2-f790c0c6bf5f",
   "metadata": {},
   "outputs": [],
   "source": [
    "d = .006\n",
    "sigma = .08\n",
    "rangeD = [0.005, 0.006, 0.007]\n",
    "rangeSigma = [0.065, 0.08, 0.095]\n",
    "trialsFileName=None\n",
    "trialsPerCondition=250 \n",
    "numTrials = 250\n",
    "numThreads = 9\n",
    "verbose = False"
   ]
  },
  {
   "cell_type": "markdown",
   "id": "ba7c3197-18fc-4d42-8cfc-ab50032a650e",
   "metadata": {},
   "source": [
    "## Recovery with MLA"
   ]
  },
  {
   "cell_type": "code",
   "execution_count": 3,
   "id": "0fc670e6-b10e-4752-ace6-c27f0e150aa8",
   "metadata": {},
   "outputs": [],
   "source": [
    "dataRTLeft, dataRTRight, dataHistLeft, dataHistRight, models, logLikelihoods = ddm_model1.recover_pars_mla(d, sigma, rangeD, rangeSigma, trialsFileName=trialsFileName, numTrials=numTrials, \n",
    "                                                                                    numSimulations=10, binStep=100, maxRT=8000, numThreads=numThreads, verbose=verbose)"
   ]
  },
  {
   "cell_type": "code",
   "execution_count": 8,
   "id": "fd1b5319-8371-4d36-9b57-3a530831e5d5",
   "metadata": {},
   "outputs": [
    {
     "data": {
      "text/html": [
       "<div>\n",
       "<style scoped>\n",
       "    .dataframe tbody tr th:only-of-type {\n",
       "        vertical-align: middle;\n",
       "    }\n",
       "\n",
       "    .dataframe tbody tr th {\n",
       "        vertical-align: top;\n",
       "    }\n",
       "\n",
       "    .dataframe thead th {\n",
       "        text-align: right;\n",
       "    }\n",
       "</style>\n",
       "<table border=\"1\" class=\"dataframe\">\n",
       "  <thead>\n",
       "    <tr style=\"text-align: right;\">\n",
       "      <th></th>\n",
       "      <th>d</th>\n",
       "      <th>sigma</th>\n",
       "      <th>logLikelihood</th>\n",
       "    </tr>\n",
       "  </thead>\n",
       "  <tbody>\n",
       "    <tr>\n",
       "      <th>0</th>\n",
       "      <td>0.005</td>\n",
       "      <td>0.065</td>\n",
       "      <td>-1147.684382</td>\n",
       "    </tr>\n",
       "    <tr>\n",
       "      <th>1</th>\n",
       "      <td>0.005</td>\n",
       "      <td>0.080</td>\n",
       "      <td>-1309.360734</td>\n",
       "    </tr>\n",
       "    <tr>\n",
       "      <th>2</th>\n",
       "      <td>0.005</td>\n",
       "      <td>0.095</td>\n",
       "      <td>-1462.771529</td>\n",
       "    </tr>\n",
       "    <tr>\n",
       "      <th>3</th>\n",
       "      <td>0.006</td>\n",
       "      <td>0.065</td>\n",
       "      <td>-1063.399888</td>\n",
       "    </tr>\n",
       "    <tr>\n",
       "      <th>4</th>\n",
       "      <td>0.006</td>\n",
       "      <td>0.080</td>\n",
       "      <td>-1284.170418</td>\n",
       "    </tr>\n",
       "    <tr>\n",
       "      <th>5</th>\n",
       "      <td>0.006</td>\n",
       "      <td>0.095</td>\n",
       "      <td>-1400.668349</td>\n",
       "    </tr>\n",
       "    <tr>\n",
       "      <th>6</th>\n",
       "      <td>0.007</td>\n",
       "      <td>0.065</td>\n",
       "      <td>-1156.828059</td>\n",
       "    </tr>\n",
       "    <tr>\n",
       "      <th>7</th>\n",
       "      <td>0.007</td>\n",
       "      <td>0.080</td>\n",
       "      <td>-1273.630589</td>\n",
       "    </tr>\n",
       "    <tr>\n",
       "      <th>8</th>\n",
       "      <td>0.007</td>\n",
       "      <td>0.095</td>\n",
       "      <td>-1469.689593</td>\n",
       "    </tr>\n",
       "  </tbody>\n",
       "</table>\n",
       "</div>"
      ],
      "text/plain": [
       "       d  sigma  logLikelihood\n",
       "0  0.005  0.065   -1147.684382\n",
       "1  0.005  0.080   -1309.360734\n",
       "2  0.005  0.095   -1462.771529\n",
       "3  0.006  0.065   -1063.399888\n",
       "4  0.006  0.080   -1284.170418\n",
       "5  0.006  0.095   -1400.668349\n",
       "6  0.007  0.065   -1156.828059\n",
       "7  0.007  0.080   -1273.630589\n",
       "8  0.007  0.095   -1469.689593"
      ]
     },
     "execution_count": 8,
     "metadata": {},
     "output_type": "execute_result"
    }
   ],
   "source": [
    "df = pd.DataFrame(list(product(rangeD, rangeSigma)), columns=['d', 'sigma'])\n",
    "df['logLikelihood'] = logLikelihoods\n",
    "df"
   ]
  },
  {
   "cell_type": "code",
   "execution_count": 9,
   "id": "d4711fae-8416-4300-9fdc-f7bcb65b3802",
   "metadata": {},
   "outputs": [
    {
     "data": {
      "text/plain": [
       "<AxesSubplot:xlabel='sigma', ylabel='d'>"
      ]
     },
     "execution_count": 9,
     "metadata": {},
     "output_type": "execute_result"
    },
    {
     "data": {
      "image/png": "[encoded data removed]",
      "text/plain": [
       "<Figure size 432x288 with 2 Axes>"
      ]
     },
     "metadata": {
      "needs_background": "light"
     },
     "output_type": "display_data"
    }
   ],
   "source": [
    "df = df.pivot(index = 'd', columns = 'sigma', values = 'logLikelihood')\n",
    "sns.heatmap(df)"
   ]
  },
  {
   "cell_type": "markdown",
   "id": "3c4cec8b-d863-44b5-a391-22c84485d842",
   "metadata": {},
   "source": [
    "## Recovery with PTA"
   ]
  },
  {
   "cell_type": "code",
   "execution_count": null,
   "id": "b7c6f8b4-09c2-4107-9f17-82661473ea6d",
   "metadata": {},
   "outputs": [],
   "source": [
    "trials, models, likelihoods, posteriors = ddm_model1.recover_pars_pta(d, sigma, rangeD, rangeSigma, trialsFileName=trialsFileName,\n",
    "                                                  trialsPerCondition=trialsPerCondition, numThreads=numThreads, verbose=verbose)"
   ]
  },
  {
   "cell_type": "code",
   "execution_count": null,
   "id": "380cfbc2-4c42-424a-b0db-04446af314d9",
   "metadata": {},
   "outputs": [],
   "source": [
    "df = pd.DataFrame(list(product(rangeD, rangeSigma)), columns=['d', 'sigma'])\n",
    "df['likelihood'] = [sum(likelihoods[k]) for k in likelihoods.keys()]\n",
    "df"
   ]
  },
  {
   "cell_type": "code",
   "execution_count": null,
   "id": "0cc08680-10a4-4b52-8fbe-64f63f0bf044",
   "metadata": {},
   "outputs": [],
   "source": [
    "df = df.pivot(index = 'd', columns = 'sigma', values = 'likelihood')\n",
    "sns.heatmap(df)"
   ]
  },
  {
   "cell_type": "code",
   "execution_count": null,
   "id": "51c5f4b9-913c-4cad-b64c-6ecbeefac9f9",
   "metadata": {},
   "outputs": [],
   "source": [
    "df = pd.DataFrame(list(product(rangeD, rangeSigma)), columns=['d', 'sigma'])\n",
    "df['posterior'] = [posteriors[k] for k in posteriors.keys()]\n",
    "df"
   ]
  },
  {
   "cell_type": "code",
   "execution_count": null,
   "id": "f5dcbec6-af36-4953-8c69-62ae91f527f7",
   "metadata": {},
   "outputs": [],
   "source": [
    "df = df.pivot(index = 'd', columns = 'sigma', values = 'posterior')\n",
    "sns.heatmap(df)"
   ]
  }
 ],
 "metadata": {
  "kernelspec": {
   "display_name": "Python 3 (ipykernel)",
   "language": "python",
   "name": "python3"
  },
  "language_info": {
   "codemirror_mode": {
    "name": "ipython",
    "version": 3
   },
   "file_extension": ".py",
   "mimetype": "text/x-python",
   "name": "python",
   "nbconvert_exporter": "python",
   "pygments_lexer": "ipython3",
   "version": "3.8.3"
  }
 },
 "nbformat": 4,
 "nbformat_minor": 5
}
