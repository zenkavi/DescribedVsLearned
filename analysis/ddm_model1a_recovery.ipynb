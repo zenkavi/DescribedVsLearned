{
 "cells": [
  {
   "cell_type": "code",
   "execution_count": 1,
   "id": "df0afd95-9286-4e7d-8376-c7fdf6696791",
   "metadata": {},
   "outputs": [],
   "source": [
    "from helpers.ddmSims.py_ddm_models import ddm_model1a\n",
    "\n",
    "from itertools import product\n",
    "import pandas as pd\n",
    "import seaborn as sns"
   ]
  },
  {
   "cell_type": "code",
   "execution_count": 2,
   "id": "e78d1918-1102-4f19-8ad2-f790c0c6bf5f",
   "metadata": {},
   "outputs": [],
   "source": [
    "d = .006\n",
    "sigma = .08\n",
    "rangeD = [0.005, 0.006, 0.007]\n",
    "rangeSigma = [0.065, 0.08, 0.095]\n",
    "trialsFileName=None\n",
    "trialsPerCondition=250 \n",
    "numTrials = 250\n",
    "numThreads = 9\n",
    "verbose = False"
   ]
  },
  {
   "cell_type": "code",
   "execution_count": 4,
   "id": "f226034a-b8fa-44dc-8de6-d57a777a6783",
   "metadata": {},
   "outputs": [],
   "source": [
    "from helpers.ddmSims.py_ddm_models.util import load_trial_conditions_from_csv"
   ]
  },
  {
   "cell_type": "code",
   "execution_count": 5,
   "id": "6b530b97-7119-472a-8126-39f052696f16",
   "metadata": {},
   "outputs": [],
   "source": [
    "if not trialsFileName:\n",
    "    trialsFileName = (\"helpers/ddmSims/test_data/test_trial_conditions.csv\")\n",
    "trialConditions = load_trial_conditions_from_csv(trialsFileName)"
   ]
  },
  {
   "cell_type": "code",
   "execution_count": 6,
   "id": "0f50a54f-2e00-48c5-bbef-b6a1235fc6da",
   "metadata": {},
   "outputs": [
    {
     "name": "stdout",
     "output_type": "stream",
     "text": [
      "True\n",
      "True\n",
      "True\n",
      "True\n",
      "True\n",
      "False\n",
      "False\n",
      "True\n",
      "True\n",
      "True\n",
      "True\n",
      "True\n",
      "True\n",
      "True\n",
      "False\n",
      "True\n",
      "True\n",
      "True\n",
      "True\n",
      "True\n",
      "True\n",
      "False\n"
     ]
    }
   ],
   "source": [
    "for (QVLeft, QVRight, EVLeft, EVRight, probFractalDraw) in trialConditions:\n",
    "    print(probFractalDraw != 1 and probFractalDraw != 0)"
   ]
  },
  {
   "cell_type": "code",
   "execution_count": 8,
   "id": "42afcb57-ccc9-4042-abd9-ca6f564603c4",
   "metadata": {},
   "outputs": [],
   "source": [
    "import numpy as np"
   ]
  },
  {
   "cell_type": "code",
   "execution_count": 10,
   "id": "70e4b301-1b82-4fc4-a18f-f2dccd8f0c4c",
   "metadata": {},
   "outputs": [
    {
     "data": {
      "text/plain": [
       "9.999999999999999e-14"
      ]
     },
     "execution_count": 10,
     "metadata": {},
     "output_type": "execute_result"
    }
   ],
   "source": [
    "delta = 1\n",
    "gamma = 1\n",
    "\n",
    "np.exp((-1)*delta*((-1)*np.log(0.0000000000001))**gamma)"
   ]
  },
  {
   "cell_type": "markdown",
   "id": "ba7c3197-18fc-4d42-8cfc-ab50032a650e",
   "metadata": {},
   "source": [
    "## Recovery with MLA"
   ]
  },
  {
   "cell_type": "code",
   "execution_count": 3,
   "id": "0fc670e6-b10e-4752-ace6-c27f0e150aa8",
   "metadata": {},
   "outputs": [
    {
     "name": "stderr",
     "output_type": "stream",
     "text": [
      "/Users/zeynepenkavi/Documents/RangelLab/DescribedVsLearned_beh/analysis/helpers/ddmSims/py_ddm_models/ddm_model1a.py:298: RuntimeWarning: divide by zero encountered in log\n",
      "  distortedProbFractalDraw = np.exp((-1)*self.delta*((-1)*np.log(probFractalDraw))**self.gamma)\n",
      "/Users/zeynepenkavi/Documents/RangelLab/DescribedVsLearned_beh/analysis/helpers/ddmSims/py_ddm_models/ddm_model1a.py:298: RuntimeWarning: divide by zero encountered in log\n",
      "  distortedProbFractalDraw = np.exp((-1)*self.delta*((-1)*np.log(probFractalDraw))**self.gamma)\n",
      "/Users/zeynepenkavi/Documents/RangelLab/DescribedVsLearned_beh/analysis/helpers/ddmSims/py_ddm_models/ddm_model1a.py:298: RuntimeWarning: divide by zero encountered in log\n",
      "  distortedProbFractalDraw = np.exp((-1)*self.delta*((-1)*np.log(probFractalDraw))**self.gamma)\n",
      "/Users/zeynepenkavi/Documents/RangelLab/DescribedVsLearned_beh/analysis/helpers/ddmSims/py_ddm_models/ddm_model1a.py:298: RuntimeWarning: divide by zero encountered in log\n",
      "  distortedProbFractalDraw = np.exp((-1)*self.delta*((-1)*np.log(probFractalDraw))**self.gamma)\n",
      "/Users/zeynepenkavi/Documents/RangelLab/DescribedVsLearned_beh/analysis/helpers/ddmSims/py_ddm_models/ddm_model1a.py:298: RuntimeWarning: divide by zero encountered in log\n",
      "  distortedProbFractalDraw = np.exp((-1)*self.delta*((-1)*np.log(probFractalDraw))**self.gamma)\n",
      "/Users/zeynepenkavi/Documents/RangelLab/DescribedVsLearned_beh/analysis/helpers/ddmSims/py_ddm_models/ddm_model1a.py:298: RuntimeWarning: divide by zero encountered in log\n",
      "  distortedProbFractalDraw = np.exp((-1)*self.delta*((-1)*np.log(probFractalDraw))**self.gamma)\n",
      "/Users/zeynepenkavi/Documents/RangelLab/DescribedVsLearned_beh/analysis/helpers/ddmSims/py_ddm_models/ddm_model1a.py:298: RuntimeWarning: divide by zero encountered in log\n",
      "  distortedProbFractalDraw = np.exp((-1)*self.delta*((-1)*np.log(probFractalDraw))**self.gamma)\n",
      "/Users/zeynepenkavi/Documents/RangelLab/DescribedVsLearned_beh/analysis/helpers/ddmSims/py_ddm_models/ddm_model1a.py:298: RuntimeWarning: divide by zero encountered in log\n",
      "  distortedProbFractalDraw = np.exp((-1)*self.delta*((-1)*np.log(probFractalDraw))**self.gamma)\n",
      "/Users/zeynepenkavi/Documents/RangelLab/DescribedVsLearned_beh/analysis/helpers/ddmSims/py_ddm_models/ddm_model1a.py:298: RuntimeWarning: divide by zero encountered in log\n",
      "  distortedProbFractalDraw = np.exp((-1)*self.delta*((-1)*np.log(probFractalDraw))**self.gamma)\n",
      "/Users/zeynepenkavi/Documents/RangelLab/DescribedVsLearned_beh/analysis/helpers/ddmSims/py_ddm_models/ddm_model1a.py:298: RuntimeWarning: divide by zero encountered in log\n",
      "  distortedProbFractalDraw = np.exp((-1)*self.delta*((-1)*np.log(probFractalDraw))**self.gamma)\n"
     ]
    }
   ],
   "source": [
    "dataRTLeft, dataRTRight, dataHistLeft, dataHistRight, models, logLikelihoods = ddm_model1a.recover_pars_mla(d, sigma, rangeD, rangeSigma, trialsFileName=trialsFileName, numTrials=numTrials, \n",
    "                                                                                    numSimulations=10, binStep=100, maxRT=8000, numThreads=numThreads, verbose=verbose)"
   ]
  },
  {
   "cell_type": "code",
   "execution_count": 11,
   "id": "fd1b5319-8371-4d36-9b57-3a530831e5d5",
   "metadata": {},
   "outputs": [
    {
     "data": {
      "text/html": [
       "<div>\n",
       "<style scoped>\n",
       "    .dataframe tbody tr th:only-of-type {\n",
       "        vertical-align: middle;\n",
       "    }\n",
       "\n",
       "    .dataframe tbody tr th {\n",
       "        vertical-align: top;\n",
       "    }\n",
       "\n",
       "    .dataframe thead th {\n",
       "        text-align: right;\n",
       "    }\n",
       "</style>\n",
       "<table border=\"1\" class=\"dataframe\">\n",
       "  <thead>\n",
       "    <tr style=\"text-align: right;\">\n",
       "      <th></th>\n",
       "      <th>d</th>\n",
       "      <th>sigma</th>\n",
       "      <th>logLikelihood</th>\n",
       "    </tr>\n",
       "  </thead>\n",
       "  <tbody>\n",
       "    <tr>\n",
       "      <th>0</th>\n",
       "      <td>0.005</td>\n",
       "      <td>0.065</td>\n",
       "      <td>-1053.976332</td>\n",
       "    </tr>\n",
       "    <tr>\n",
       "      <th>1</th>\n",
       "      <td>0.005</td>\n",
       "      <td>0.080</td>\n",
       "      <td>-1434.445948</td>\n",
       "    </tr>\n",
       "    <tr>\n",
       "      <th>2</th>\n",
       "      <td>0.005</td>\n",
       "      <td>0.095</td>\n",
       "      <td>-1615.239855</td>\n",
       "    </tr>\n",
       "    <tr>\n",
       "      <th>3</th>\n",
       "      <td>0.006</td>\n",
       "      <td>0.065</td>\n",
       "      <td>-1109.586349</td>\n",
       "    </tr>\n",
       "    <tr>\n",
       "      <th>4</th>\n",
       "      <td>0.006</td>\n",
       "      <td>0.080</td>\n",
       "      <td>-1575.243118</td>\n",
       "    </tr>\n",
       "    <tr>\n",
       "      <th>5</th>\n",
       "      <td>0.006</td>\n",
       "      <td>0.095</td>\n",
       "      <td>-1449.071916</td>\n",
       "    </tr>\n",
       "    <tr>\n",
       "      <th>6</th>\n",
       "      <td>0.007</td>\n",
       "      <td>0.065</td>\n",
       "      <td>-1365.611344</td>\n",
       "    </tr>\n",
       "    <tr>\n",
       "      <th>7</th>\n",
       "      <td>0.007</td>\n",
       "      <td>0.080</td>\n",
       "      <td>-1619.265764</td>\n",
       "    </tr>\n",
       "    <tr>\n",
       "      <th>8</th>\n",
       "      <td>0.007</td>\n",
       "      <td>0.095</td>\n",
       "      <td>-1481.233492</td>\n",
       "    </tr>\n",
       "  </tbody>\n",
       "</table>\n",
       "</div>"
      ],
      "text/plain": [
       "       d  sigma  logLikelihood\n",
       "0  0.005  0.065   -1053.976332\n",
       "1  0.005  0.080   -1434.445948\n",
       "2  0.005  0.095   -1615.239855\n",
       "3  0.006  0.065   -1109.586349\n",
       "4  0.006  0.080   -1575.243118\n",
       "5  0.006  0.095   -1449.071916\n",
       "6  0.007  0.065   -1365.611344\n",
       "7  0.007  0.080   -1619.265764\n",
       "8  0.007  0.095   -1481.233492"
      ]
     },
     "execution_count": 11,
     "metadata": {},
     "output_type": "execute_result"
    }
   ],
   "source": [
    "df = pd.DataFrame(list(product(rangeD, rangeSigma)), columns=['d', 'sigma'])\n",
    "df['logLikelihood'] = logLikelihoods\n",
    "df"
   ]
  },
  {
   "cell_type": "code",
   "execution_count": 12,
   "id": "d4711fae-8416-4300-9fdc-f7bcb65b3802",
   "metadata": {},
   "outputs": [
    {
     "data": {
      "text/plain": [
       "<AxesSubplot:xlabel='sigma', ylabel='d'>"
      ]
     },
     "execution_count": 12,
     "metadata": {},
     "output_type": "execute_result"
    },
    {
     "data": {
      "image/png": "[encoded data removed]",
      "text/plain": [
       "<Figure size 432x288 with 2 Axes>"
      ]
     },
     "metadata": {
      "needs_background": "light"
     },
     "output_type": "display_data"
    }
   ],
   "source": [
    "df = df.pivot(index = 'd', columns = 'sigma', values = 'logLikelihood')\n",
    "sns.heatmap(df)"
   ]
  },
  {
   "cell_type": "markdown",
   "id": "3c4cec8b-d863-44b5-a391-22c84485d842",
   "metadata": {},
   "source": [
    "## Recovery with PTA"
   ]
  },
  {
   "cell_type": "code",
   "execution_count": 13,
   "id": "b7c6f8b4-09c2-4107-9f17-82661473ea6d",
   "metadata": {},
   "outputs": [
    {
     "name": "stderr",
     "output_type": "stream",
     "text": [
      "/Users/zeynepenkavi/Documents/RangelLab/DescribedVsLearned_beh/analysis/helpers/ddmSims/py_ddm_models/ddm_model1a.py:298: RuntimeWarning: divide by zero encountered in log\n",
      "  distortedProbFractalDraw = np.exp((-1)*self.delta*((-1)*np.log(probFractalDraw))**self.gamma)\n"
     ]
    }
   ],
   "source": [
    "trials, models, likelihoods, posteriors = ddm_model1a.recover_pars_pta(d, sigma, rangeD, rangeSigma, trialsFileName=trialsFileName,\n",
    "                                                  trialsPerCondition=trialsPerCondition, numThreads=numThreads, verbose=verbose)"
   ]
  },
  {
   "cell_type": "code",
   "execution_count": 14,
   "id": "380cfbc2-4c42-424a-b0db-04446af314d9",
   "metadata": {},
   "outputs": [
    {
     "data": {
      "text/html": [
       "<div>\n",
       "<style scoped>\n",
       "    .dataframe tbody tr th:only-of-type {\n",
       "        vertical-align: middle;\n",
       "    }\n",
       "\n",
       "    .dataframe tbody tr th {\n",
       "        vertical-align: top;\n",
       "    }\n",
       "\n",
       "    .dataframe thead th {\n",
       "        text-align: right;\n",
       "    }\n",
       "</style>\n",
       "<table border=\"1\" class=\"dataframe\">\n",
       "  <thead>\n",
       "    <tr style=\"text-align: right;\">\n",
       "      <th></th>\n",
       "      <th>d</th>\n",
       "      <th>sigma</th>\n",
       "      <th>likelihood</th>\n",
       "    </tr>\n",
       "  </thead>\n",
       "  <tbody>\n",
       "    <tr>\n",
       "      <th>0</th>\n",
       "      <td>0.005</td>\n",
       "      <td>0.065</td>\n",
       "      <td>8.031609</td>\n",
       "    </tr>\n",
       "    <tr>\n",
       "      <th>1</th>\n",
       "      <td>0.005</td>\n",
       "      <td>0.080</td>\n",
       "      <td>9.823930</td>\n",
       "    </tr>\n",
       "    <tr>\n",
       "      <th>2</th>\n",
       "      <td>0.005</td>\n",
       "      <td>0.095</td>\n",
       "      <td>10.880795</td>\n",
       "    </tr>\n",
       "    <tr>\n",
       "      <th>3</th>\n",
       "      <td>0.006</td>\n",
       "      <td>0.065</td>\n",
       "      <td>8.207558</td>\n",
       "    </tr>\n",
       "    <tr>\n",
       "      <th>4</th>\n",
       "      <td>0.006</td>\n",
       "      <td>0.080</td>\n",
       "      <td>9.947458</td>\n",
       "    </tr>\n",
       "    <tr>\n",
       "      <th>5</th>\n",
       "      <td>0.006</td>\n",
       "      <td>0.095</td>\n",
       "      <td>10.969008</td>\n",
       "    </tr>\n",
       "    <tr>\n",
       "      <th>6</th>\n",
       "      <td>0.007</td>\n",
       "      <td>0.065</td>\n",
       "      <td>8.390214</td>\n",
       "    </tr>\n",
       "    <tr>\n",
       "      <th>7</th>\n",
       "      <td>0.007</td>\n",
       "      <td>0.080</td>\n",
       "      <td>10.073896</td>\n",
       "    </tr>\n",
       "    <tr>\n",
       "      <th>8</th>\n",
       "      <td>0.007</td>\n",
       "      <td>0.095</td>\n",
       "      <td>11.058186</td>\n",
       "    </tr>\n",
       "  </tbody>\n",
       "</table>\n",
       "</div>"
      ],
      "text/plain": [
       "       d  sigma  likelihood\n",
       "0  0.005  0.065    8.031609\n",
       "1  0.005  0.080    9.823930\n",
       "2  0.005  0.095   10.880795\n",
       "3  0.006  0.065    8.207558\n",
       "4  0.006  0.080    9.947458\n",
       "5  0.006  0.095   10.969008\n",
       "6  0.007  0.065    8.390214\n",
       "7  0.007  0.080   10.073896\n",
       "8  0.007  0.095   11.058186"
      ]
     },
     "execution_count": 14,
     "metadata": {},
     "output_type": "execute_result"
    }
   ],
   "source": [
    "df = pd.DataFrame(list(product(rangeD, rangeSigma)), columns=['d', 'sigma'])\n",
    "df['likelihood'] = [sum(likelihoods[k]) for k in likelihoods.keys()]\n",
    "df"
   ]
  },
  {
   "cell_type": "code",
   "execution_count": 15,
   "id": "0cc08680-10a4-4b52-8fbe-64f63f0bf044",
   "metadata": {},
   "outputs": [
    {
     "data": {
      "text/plain": [
       "<AxesSubplot:xlabel='sigma', ylabel='d'>"
      ]
     },
     "execution_count": 15,
     "metadata": {},
     "output_type": "execute_result"
    },
    {
     "data": {
      "image/png": "[encoded data removed]",
      "text/plain": [
       "<Figure size 432x288 with 2 Axes>"
      ]
     },
     "metadata": {
      "needs_background": "light"
     },
     "output_type": "display_data"
    }
   ],
   "source": [
    "df = df.pivot(index = 'd', columns = 'sigma', values = 'likelihood')\n",
    "sns.heatmap(df)"
   ]
  },
  {
   "cell_type": "code",
   "execution_count": 16,
   "id": "51c5f4b9-913c-4cad-b64c-6ecbeefac9f9",
   "metadata": {},
   "outputs": [
    {
     "data": {
      "text/html": [
       "<div>\n",
       "<style scoped>\n",
       "    .dataframe tbody tr th:only-of-type {\n",
       "        vertical-align: middle;\n",
       "    }\n",
       "\n",
       "    .dataframe tbody tr th {\n",
       "        vertical-align: top;\n",
       "    }\n",
       "\n",
       "    .dataframe thead th {\n",
       "        text-align: right;\n",
       "    }\n",
       "</style>\n",
       "<table border=\"1\" class=\"dataframe\">\n",
       "  <thead>\n",
       "    <tr style=\"text-align: right;\">\n",
       "      <th></th>\n",
       "      <th>d</th>\n",
       "      <th>sigma</th>\n",
       "      <th>posterior</th>\n",
       "    </tr>\n",
       "  </thead>\n",
       "  <tbody>\n",
       "    <tr>\n",
       "      <th>0</th>\n",
       "      <td>0.005</td>\n",
       "      <td>0.065</td>\n",
       "      <td>7.114701e-270</td>\n",
       "    </tr>\n",
       "    <tr>\n",
       "      <th>1</th>\n",
       "      <td>0.005</td>\n",
       "      <td>0.080</td>\n",
       "      <td>2.615962e-03</td>\n",
       "    </tr>\n",
       "    <tr>\n",
       "      <th>2</th>\n",
       "      <td>0.005</td>\n",
       "      <td>0.095</td>\n",
       "      <td>1.011411e-245</td>\n",
       "    </tr>\n",
       "    <tr>\n",
       "      <th>3</th>\n",
       "      <td>0.006</td>\n",
       "      <td>0.065</td>\n",
       "      <td>3.120257e-267</td>\n",
       "    </tr>\n",
       "    <tr>\n",
       "      <th>4</th>\n",
       "      <td>0.006</td>\n",
       "      <td>0.080</td>\n",
       "      <td>9.699563e-01</td>\n",
       "    </tr>\n",
       "    <tr>\n",
       "      <th>5</th>\n",
       "      <td>0.006</td>\n",
       "      <td>0.095</td>\n",
       "      <td>1.777197e-243</td>\n",
       "    </tr>\n",
       "    <tr>\n",
       "      <th>6</th>\n",
       "      <td>0.007</td>\n",
       "      <td>0.065</td>\n",
       "      <td>5.488488e-271</td>\n",
       "    </tr>\n",
       "    <tr>\n",
       "      <th>7</th>\n",
       "      <td>0.007</td>\n",
       "      <td>0.080</td>\n",
       "      <td>2.742775e-02</td>\n",
       "    </tr>\n",
       "    <tr>\n",
       "      <th>8</th>\n",
       "      <td>0.007</td>\n",
       "      <td>0.095</td>\n",
       "      <td>4.189902e-244</td>\n",
       "    </tr>\n",
       "  </tbody>\n",
       "</table>\n",
       "</div>"
      ],
      "text/plain": [
       "       d  sigma      posterior\n",
       "0  0.005  0.065  7.114701e-270\n",
       "1  0.005  0.080   2.615962e-03\n",
       "2  0.005  0.095  1.011411e-245\n",
       "3  0.006  0.065  3.120257e-267\n",
       "4  0.006  0.080   9.699563e-01\n",
       "5  0.006  0.095  1.777197e-243\n",
       "6  0.007  0.065  5.488488e-271\n",
       "7  0.007  0.080   2.742775e-02\n",
       "8  0.007  0.095  4.189902e-244"
      ]
     },
     "execution_count": 16,
     "metadata": {},
     "output_type": "execute_result"
    }
   ],
   "source": [
    "df = pd.DataFrame(list(product(rangeD, rangeSigma)), columns=['d', 'sigma'])\n",
    "df['posterior'] = [posteriors[k] for k in posteriors.keys()]\n",
    "df"
   ]
  },
  {
   "cell_type": "code",
   "execution_count": 17,
   "id": "f5dcbec6-af36-4953-8c69-62ae91f527f7",
   "metadata": {},
   "outputs": [
    {
     "data": {
      "text/plain": [
       "<AxesSubplot:xlabel='sigma', ylabel='d'>"
      ]
     },
     "execution_count": 17,
     "metadata": {},
     "output_type": "execute_result"
    },
    {
     "data": {
      "image/png": "[encoded data removed]",
      "text/plain": [
       "<Figure size 432x288 with 2 Axes>"
      ]
     },
     "metadata": {
      "needs_background": "light"
     },
     "output_type": "display_data"
    }
   ],
   "source": [
    "df = df.pivot(index = 'd', columns = 'sigma', values = 'posterior')\n",
    "sns.heatmap(df)"
   ]
  },
  {
   "cell_type": "markdown",
   "id": "c9ee1cd4-3c20-4ae3-ba73-11170c97ee4b",
   "metadata": {},
   "source": [
    "# Different parameter combination"
   ]
  },
  {
   "cell_type": "code",
   "execution_count": 18,
   "id": "d5329b7c-43c1-4879-addb-3a623fcdd5b6",
   "metadata": {},
   "outputs": [],
   "source": [
    "d = .06\n",
    "sigma = .06\n",
    "rangeD = [0.05, 0.06, 0.07]\n",
    "rangeSigma = [0.035, 0.06, 0.085]\n",
    "trialsFileName=None\n",
    "trialsPerCondition=250 \n",
    "numTrials = 250\n",
    "numThreads = 9\n",
    "verbose = False"
   ]
  },
  {
   "cell_type": "markdown",
   "id": "32bf7b57-0365-4e71-8f3b-06471659a683",
   "metadata": {},
   "source": [
    "## Recovery with MLA"
   ]
  },
  {
   "cell_type": "code",
   "execution_count": null,
   "id": "610c9af9-6286-44d3-8b30-e88ca234fe5e",
   "metadata": {},
   "outputs": [],
   "source": [
    "dataRTLeft, dataRTRight, dataHistLeft, dataHistRight, models, logLikelihoods = ddm_model1a.recover_pars_mla(d, sigma, rangeD, rangeSigma, trialsFileName=trialsFileName, numTrials=numTrials, \n",
    "                                                                                    numSimulations=10, binStep=100, maxRT=8000, numThreads=numThreads, verbose=verbose)"
   ]
  },
  {
   "cell_type": "code",
   "execution_count": null,
   "id": "80460076-c135-4646-868f-ac70b43aabb8",
   "metadata": {},
   "outputs": [],
   "source": [
    "df = pd.DataFrame(list(product(rangeD, rangeSigma)), columns=['d', 'sigma'])\n",
    "df['logLikelihood'] = logLikelihoods\n",
    "df"
   ]
  },
  {
   "cell_type": "code",
   "execution_count": null,
   "id": "1abb240b-c7c4-4840-b190-69e9be026dcf",
   "metadata": {},
   "outputs": [],
   "source": [
    "df = df.pivot(index = 'd', columns = 'sigma', values = 'logLikelihood')\n",
    "sns.heatmap(df)"
   ]
  },
  {
   "cell_type": "markdown",
   "id": "fa3413ff-91aa-46dc-91b9-d14bb3a31581",
   "metadata": {},
   "source": [
    "## Recovery with PTA"
   ]
  },
  {
   "cell_type": "code",
   "execution_count": 19,
   "id": "336fdbc8-eda2-4c56-9755-ac71abddb10a",
   "metadata": {},
   "outputs": [
    {
     "name": "stderr",
     "output_type": "stream",
     "text": [
      "/Users/zeynepenkavi/Documents/RangelLab/DescribedVsLearned_beh/analysis/helpers/ddmSims/py_ddm_models/ddm_model1a.py:298: RuntimeWarning: divide by zero encountered in log\n",
      "  distortedProbFractalDraw = np.exp((-1)*self.delta*((-1)*np.log(probFractalDraw))**self.gamma)\n"
     ]
    }
   ],
   "source": [
    "trials, models, likelihoods, posteriors = ddm_model1a.recover_pars_pta(d, sigma, rangeD, rangeSigma, trialsFileName=trialsFileName,\n",
    "                                                  trialsPerCondition=trialsPerCondition, numThreads=numThreads, verbose=verbose)"
   ]
  },
  {
   "cell_type": "code",
   "execution_count": 20,
   "id": "6192f80d-5c8d-4772-b025-a47e715aea5c",
   "metadata": {},
   "outputs": [
    {
     "data": {
      "text/html": [
       "<div>\n",
       "<style scoped>\n",
       "    .dataframe tbody tr th:only-of-type {\n",
       "        vertical-align: middle;\n",
       "    }\n",
       "\n",
       "    .dataframe tbody tr th {\n",
       "        vertical-align: top;\n",
       "    }\n",
       "\n",
       "    .dataframe thead th {\n",
       "        text-align: right;\n",
       "    }\n",
       "</style>\n",
       "<table border=\"1\" class=\"dataframe\">\n",
       "  <thead>\n",
       "    <tr style=\"text-align: right;\">\n",
       "      <th></th>\n",
       "      <th>d</th>\n",
       "      <th>sigma</th>\n",
       "      <th>likelihood</th>\n",
       "    </tr>\n",
       "  </thead>\n",
       "  <tbody>\n",
       "    <tr>\n",
       "      <th>0</th>\n",
       "      <td>0.05</td>\n",
       "      <td>0.035</td>\n",
       "      <td>8.544542</td>\n",
       "    </tr>\n",
       "    <tr>\n",
       "      <th>1</th>\n",
       "      <td>0.05</td>\n",
       "      <td>0.060</td>\n",
       "      <td>46.823060</td>\n",
       "    </tr>\n",
       "    <tr>\n",
       "      <th>2</th>\n",
       "      <td>0.05</td>\n",
       "      <td>0.085</td>\n",
       "      <td>42.325451</td>\n",
       "    </tr>\n",
       "    <tr>\n",
       "      <th>3</th>\n",
       "      <td>0.06</td>\n",
       "      <td>0.035</td>\n",
       "      <td>19.271665</td>\n",
       "    </tr>\n",
       "    <tr>\n",
       "      <th>4</th>\n",
       "      <td>0.06</td>\n",
       "      <td>0.060</td>\n",
       "      <td>53.918319</td>\n",
       "    </tr>\n",
       "    <tr>\n",
       "      <th>5</th>\n",
       "      <td>0.06</td>\n",
       "      <td>0.085</td>\n",
       "      <td>46.485340</td>\n",
       "    </tr>\n",
       "    <tr>\n",
       "      <th>6</th>\n",
       "      <td>0.07</td>\n",
       "      <td>0.035</td>\n",
       "      <td>34.016754</td>\n",
       "    </tr>\n",
       "    <tr>\n",
       "      <th>7</th>\n",
       "      <td>0.07</td>\n",
       "      <td>0.060</td>\n",
       "      <td>57.634177</td>\n",
       "    </tr>\n",
       "    <tr>\n",
       "      <th>8</th>\n",
       "      <td>0.07</td>\n",
       "      <td>0.085</td>\n",
       "      <td>48.783545</td>\n",
       "    </tr>\n",
       "  </tbody>\n",
       "</table>\n",
       "</div>"
      ],
      "text/plain": [
       "      d  sigma  likelihood\n",
       "0  0.05  0.035    8.544542\n",
       "1  0.05  0.060   46.823060\n",
       "2  0.05  0.085   42.325451\n",
       "3  0.06  0.035   19.271665\n",
       "4  0.06  0.060   53.918319\n",
       "5  0.06  0.085   46.485340\n",
       "6  0.07  0.035   34.016754\n",
       "7  0.07  0.060   57.634177\n",
       "8  0.07  0.085   48.783545"
      ]
     },
     "execution_count": 20,
     "metadata": {},
     "output_type": "execute_result"
    }
   ],
   "source": [
    "df = pd.DataFrame(list(product(rangeD, rangeSigma)), columns=['d', 'sigma'])\n",
    "df['likelihood'] = [sum(likelihoods[k]) for k in likelihoods.keys()]\n",
    "df"
   ]
  },
  {
   "cell_type": "code",
   "execution_count": 21,
   "id": "21d3f068-1848-47e7-b044-50261f9a427c",
   "metadata": {},
   "outputs": [
    {
     "data": {
      "text/plain": [
       "<AxesSubplot:xlabel='sigma', ylabel='d'>"
      ]
     },
     "execution_count": 21,
     "metadata": {},
     "output_type": "execute_result"
    },
    {
     "data": {
      "image/png": "[encoded data removed]",
      "text/plain": [
       "<Figure size 432x288 with 2 Axes>"
      ]
     },
     "metadata": {
      "needs_background": "light"
     },
     "output_type": "display_data"
    }
   ],
   "source": [
    "df = df.pivot(index = 'd', columns = 'sigma', values = 'likelihood')\n",
    "sns.heatmap(df)"
   ]
  },
  {
   "cell_type": "code",
   "execution_count": 22,
   "id": "ffc32513-ee21-4ca5-b805-264ac9a7598a",
   "metadata": {},
   "outputs": [
    {
     "data": {
      "text/html": [
       "<div>\n",
       "<style scoped>\n",
       "    .dataframe tbody tr th:only-of-type {\n",
       "        vertical-align: middle;\n",
       "    }\n",
       "\n",
       "    .dataframe tbody tr th {\n",
       "        vertical-align: top;\n",
       "    }\n",
       "\n",
       "    .dataframe thead th {\n",
       "        text-align: right;\n",
       "    }\n",
       "</style>\n",
       "<table border=\"1\" class=\"dataframe\">\n",
       "  <thead>\n",
       "    <tr style=\"text-align: right;\">\n",
       "      <th></th>\n",
       "      <th>d</th>\n",
       "      <th>sigma</th>\n",
       "      <th>posterior</th>\n",
       "    </tr>\n",
       "  </thead>\n",
       "  <tbody>\n",
       "    <tr>\n",
       "      <th>0</th>\n",
       "      <td>0.05</td>\n",
       "      <td>0.035</td>\n",
       "      <td>0.000000e+00</td>\n",
       "    </tr>\n",
       "    <tr>\n",
       "      <th>1</th>\n",
       "      <td>0.05</td>\n",
       "      <td>0.060</td>\n",
       "      <td>4.200973e-85</td>\n",
       "    </tr>\n",
       "    <tr>\n",
       "      <th>2</th>\n",
       "      <td>0.05</td>\n",
       "      <td>0.085</td>\n",
       "      <td>0.000000e+00</td>\n",
       "    </tr>\n",
       "    <tr>\n",
       "      <th>3</th>\n",
       "      <td>0.06</td>\n",
       "      <td>0.035</td>\n",
       "      <td>0.000000e+00</td>\n",
       "    </tr>\n",
       "    <tr>\n",
       "      <th>4</th>\n",
       "      <td>0.06</td>\n",
       "      <td>0.060</td>\n",
       "      <td>1.000000e+00</td>\n",
       "    </tr>\n",
       "    <tr>\n",
       "      <th>5</th>\n",
       "      <td>0.06</td>\n",
       "      <td>0.085</td>\n",
       "      <td>0.000000e+00</td>\n",
       "    </tr>\n",
       "    <tr>\n",
       "      <th>6</th>\n",
       "      <td>0.07</td>\n",
       "      <td>0.035</td>\n",
       "      <td>0.000000e+00</td>\n",
       "    </tr>\n",
       "    <tr>\n",
       "      <th>7</th>\n",
       "      <td>0.07</td>\n",
       "      <td>0.060</td>\n",
       "      <td>2.967691e-160</td>\n",
       "    </tr>\n",
       "    <tr>\n",
       "      <th>8</th>\n",
       "      <td>0.07</td>\n",
       "      <td>0.085</td>\n",
       "      <td>0.000000e+00</td>\n",
       "    </tr>\n",
       "  </tbody>\n",
       "</table>\n",
       "</div>"
      ],
      "text/plain": [
       "      d  sigma      posterior\n",
       "0  0.05  0.035   0.000000e+00\n",
       "1  0.05  0.060   4.200973e-85\n",
       "2  0.05  0.085   0.000000e+00\n",
       "3  0.06  0.035   0.000000e+00\n",
       "4  0.06  0.060   1.000000e+00\n",
       "5  0.06  0.085   0.000000e+00\n",
       "6  0.07  0.035   0.000000e+00\n",
       "7  0.07  0.060  2.967691e-160\n",
       "8  0.07  0.085   0.000000e+00"
      ]
     },
     "execution_count": 22,
     "metadata": {},
     "output_type": "execute_result"
    }
   ],
   "source": [
    "df = pd.DataFrame(list(product(rangeD, rangeSigma)), columns=['d', 'sigma'])\n",
    "df['posterior'] = [posteriors[k] for k in posteriors.keys()]\n",
    "df"
   ]
  },
  {
   "cell_type": "code",
   "execution_count": 23,
   "id": "9435ba29-7f39-464b-a363-ba72d928fc84",
   "metadata": {},
   "outputs": [
    {
     "data": {
      "text/plain": [
       "<AxesSubplot:xlabel='sigma', ylabel='d'>"
      ]
     },
     "execution_count": 23,
     "metadata": {},
     "output_type": "execute_result"
    },
    {
     "data": {
      "image/png": "[encoded data removed]",
      "text/plain": [
       "<Figure size 432x288 with 2 Axes>"
      ]
     },
     "metadata": {
      "needs_background": "light"
     },
     "output_type": "display_data"
    }
   ],
   "source": [
    "df = df.pivot(index = 'd', columns = 'sigma', values = 'posterior')\n",
    "sns.heatmap(df)"
   ]
  },
  {
   "cell_type": "code",
   "execution_count": null,
   "id": "1ef673e3-638b-41ca-b83c-70d8c6836cd4",
   "metadata": {},
   "outputs": [],
   "source": []
  }
 ],
 "metadata": {
  "kernelspec": {
   "display_name": "Python 3 (ipykernel)",
   "language": "python",
   "name": "python3"
  },
  "language_info": {
   "codemirror_mode": {
    "name": "ipython",
    "version": 3
   },
   "file_extension": ".py",
   "mimetype": "text/x-python",
   "name": "python",
   "nbconvert_exporter": "python",
   "pygments_lexer": "ipython3",
   "version": "3.8.3"
  }
 },
 "nbformat": 4,
 "nbformat_minor": 5
}
