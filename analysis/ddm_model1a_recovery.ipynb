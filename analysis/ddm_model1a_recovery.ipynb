{
 "cells": [
  {
   "cell_type": "code",
   "execution_count": null,
   "id": "df0afd95-9286-4e7d-8376-c7fdf6696791",
   "metadata": {},
   "outputs": [],
   "source": [
    "from helpers.ddmSims.py_ddm_models import ddm_model1a\n",
    "\n",
    "from itertools import product\n",
    "import pandas as pd\n",
    "import seaborn as sns"
   ]
  },
  {
   "cell_type": "code",
   "execution_count": null,
   "id": "e78d1918-1102-4f19-8ad2-f790c0c6bf5f",
   "metadata": {},
   "outputs": [],
   "source": [
    "d = .006\n",
    "sigma = .08\n",
    "rangeD = [0.005, 0.006, 0.007]\n",
    "rangeSigma = [0.065, 0.08, 0.095]\n",
    "trialsFileName=None\n",
    "trialsPerCondition=250 \n",
    "numTrials = 250\n",
    "numThreads = 9\n",
    "verbose = False"
   ]
  },
  {
   "cell_type": "markdown",
   "id": "ba7c3197-18fc-4d42-8cfc-ab50032a650e",
   "metadata": {},
   "source": [
    "## Recovery with MLA"
   ]
  },
  {
   "cell_type": "code",
   "execution_count": null,
   "id": "0fc670e6-b10e-4752-ace6-c27f0e150aa8",
   "metadata": {},
   "outputs": [],
   "source": [
    "dataRTLeft, dataRTRight, dataHistLeft, dataHistRight, models, logLikelihoods = ddm_model1a.recover_pars_mla(d, sigma, rangeD, rangeSigma, trialsFileName=trialsFileName, numTrials=numTrials, \n",
    "                                                                                    numSimulations=10, binStep=100, maxRT=8000, numThreads=numThreads, verbose=verbose)"
   ]
  },
  {
   "cell_type": "code",
   "execution_count": null,
   "id": "fd1b5319-8371-4d36-9b57-3a530831e5d5",
   "metadata": {},
   "outputs": [],
   "source": [
    "df = pd.DataFrame(list(product(rangeD, rangeSigma)), columns=['d', 'sigma'])\n",
    "df['logLikelihood'] = logLikelihoods\n",
    "df"
   ]
  },
  {
   "cell_type": "code",
   "execution_count": null,
   "id": "d4711fae-8416-4300-9fdc-f7bcb65b3802",
   "metadata": {},
   "outputs": [],
   "source": [
    "df = df.pivot(index = 'd', columns = 'sigma', values = 'logLikelihood')\n",
    "sns.heatmap(df)"
   ]
  },
  {
   "cell_type": "markdown",
   "id": "3c4cec8b-d863-44b5-a391-22c84485d842",
   "metadata": {},
   "source": [
    "## Recovery with PTA"
   ]
  },
  {
   "cell_type": "code",
   "execution_count": null,
   "id": "b7c6f8b4-09c2-4107-9f17-82661473ea6d",
   "metadata": {},
   "outputs": [],
   "source": [
    "trials, models, likelihoods, posteriors = ddm_model1a.recover_pars_pta(d, sigma, rangeD, rangeSigma, trialsFileName=trialsFileName,\n",
    "                                                  trialsPerCondition=trialsPerCondition, numThreads=numThreads, verbose=verbose)"
   ]
  },
  {
   "cell_type": "code",
   "execution_count": null,
   "id": "380cfbc2-4c42-424a-b0db-04446af314d9",
   "metadata": {},
   "outputs": [],
   "source": [
    "df = pd.DataFrame(list(product(rangeD, rangeSigma)), columns=['d', 'sigma'])\n",
    "df['likelihood'] = [sum(likelihoods[k]) for k in likelihoods.keys()]\n",
    "df"
   ]
  },
  {
   "cell_type": "code",
   "execution_count": null,
   "id": "0cc08680-10a4-4b52-8fbe-64f63f0bf044",
   "metadata": {},
   "outputs": [],
   "source": [
    "df = df.pivot(index = 'd', columns = 'sigma', values = 'likelihood')\n",
    "sns.heatmap(df)"
   ]
  },
  {
   "cell_type": "code",
   "execution_count": null,
   "id": "51c5f4b9-913c-4cad-b64c-6ecbeefac9f9",
   "metadata": {},
   "outputs": [],
   "source": [
    "df = pd.DataFrame(list(product(rangeD, rangeSigma)), columns=['d', 'sigma'])\n",
    "df['posterior'] = [posteriors[k] for k in posteriors.keys()]\n",
    "df"
   ]
  },
  {
   "cell_type": "code",
   "execution_count": null,
   "id": "f5dcbec6-af36-4953-8c69-62ae91f527f7",
   "metadata": {},
   "outputs": [],
   "source": [
    "df = df.pivot(index = 'd', columns = 'sigma', values = 'posterior')\n",
    "sns.heatmap(df)"
   ]
  },
  {
   "cell_type": "markdown",
   "id": "c9ee1cd4-3c20-4ae3-ba73-11170c97ee4b",
   "metadata": {},
   "source": [
    "# Different parameter combination"
   ]
  },
  {
   "cell_type": "code",
   "execution_count": null,
   "id": "d5329b7c-43c1-4879-addb-3a623fcdd5b6",
   "metadata": {},
   "outputs": [],
   "source": [
    "d = .06\n",
    "sigma = .06\n",
    "rangeD = [0.05, 0.06, 0.07]\n",
    "rangeSigma = [0.035, 0.06, 0.085]\n",
    "trialsFileName=None\n",
    "trialsPerCondition=250 \n",
    "numTrials = 250\n",
    "numThreads = 9\n",
    "verbose = False"
   ]
  },
  {
   "cell_type": "markdown",
   "id": "32bf7b57-0365-4e71-8f3b-06471659a683",
   "metadata": {},
   "source": [
    "## Recovery with MLA"
   ]
  },
  {
   "cell_type": "code",
   "execution_count": null,
   "id": "610c9af9-6286-44d3-8b30-e88ca234fe5e",
   "metadata": {},
   "outputs": [],
   "source": [
    "dataRTLeft, dataRTRight, dataHistLeft, dataHistRight, models, logLikelihoods = ddm_model1a.recover_pars_mla(d, sigma, rangeD, rangeSigma, trialsFileName=trialsFileName, numTrials=numTrials, \n",
    "                                                                                    numSimulations=10, binStep=100, maxRT=8000, numThreads=numThreads, verbose=verbose)"
   ]
  },
  {
   "cell_type": "code",
   "execution_count": null,
   "id": "80460076-c135-4646-868f-ac70b43aabb8",
   "metadata": {},
   "outputs": [],
   "source": [
    "df = pd.DataFrame(list(product(rangeD, rangeSigma)), columns=['d', 'sigma'])\n",
    "df['logLikelihood'] = logLikelihoods\n",
    "df"
   ]
  },
  {
   "cell_type": "code",
   "execution_count": null,
   "id": "1abb240b-c7c4-4840-b190-69e9be026dcf",
   "metadata": {},
   "outputs": [],
   "source": [
    "df = df.pivot(index = 'd', columns = 'sigma', values = 'logLikelihood')\n",
    "sns.heatmap(df)"
   ]
  },
  {
   "cell_type": "markdown",
   "id": "fa3413ff-91aa-46dc-91b9-d14bb3a31581",
   "metadata": {},
   "source": [
    "## Recovery with PTA"
   ]
  },
  {
   "cell_type": "code",
   "execution_count": null,
   "id": "336fdbc8-eda2-4c56-9755-ac71abddb10a",
   "metadata": {},
   "outputs": [],
   "source": [
    "trials, models, likelihoods, posteriors = ddm_model1a.recover_pars_pta(d, sigma, rangeD, rangeSigma, trialsFileName=trialsFileName,\n",
    "                                                  trialsPerCondition=trialsPerCondition, numThreads=numThreads, verbose=verbose)"
   ]
  },
  {
   "cell_type": "code",
   "execution_count": null,
   "id": "6192f80d-5c8d-4772-b025-a47e715aea5c",
   "metadata": {},
   "outputs": [],
   "source": [
    "df = pd.DataFrame(list(product(rangeD, rangeSigma)), columns=['d', 'sigma'])\n",
    "df['likelihood'] = [sum(likelihoods[k]) for k in likelihoods.keys()]\n",
    "df"
   ]
  },
  {
   "cell_type": "code",
   "execution_count": null,
   "id": "21d3f068-1848-47e7-b044-50261f9a427c",
   "metadata": {},
   "outputs": [],
   "source": [
    "df = df.pivot(index = 'd', columns = 'sigma', values = 'likelihood')\n",
    "sns.heatmap(df)"
   ]
  },
  {
   "cell_type": "code",
   "execution_count": null,
   "id": "ffc32513-ee21-4ca5-b805-264ac9a7598a",
   "metadata": {},
   "outputs": [],
   "source": [
    "df = pd.DataFrame(list(product(rangeD, rangeSigma)), columns=['d', 'sigma'])\n",
    "df['posterior'] = [posteriors[k] for k in posteriors.keys()]\n",
    "df"
   ]
  },
  {
   "cell_type": "code",
   "execution_count": null,
   "id": "9435ba29-7f39-464b-a363-ba72d928fc84",
   "metadata": {},
   "outputs": [],
   "source": [
    "df = df.pivot(index = 'd', columns = 'sigma', values = 'posterior')\n",
    "sns.heatmap(df)"
   ]
  },
  {
   "cell_type": "code",
   "execution_count": 5,
   "id": "57900ef0-bd60-49c8-a4d7-9a9905f1760a",
   "metadata": {},
   "outputs": [],
   "source": [
    "import numpy as np"
   ]
  },
  {
   "cell_type": "code",
   "execution_count": 10,
   "id": "33087453-ee7e-4f94-9b37-1b0566d6280b",
   "metadata": {},
   "outputs": [
    {
     "data": {
      "text/plain": [
       "True"
      ]
     },
     "execution_count": 10,
     "metadata": {},
     "output_type": "execute_result"
    }
   ],
   "source": [
    "1 ==1.0"
   ]
  },
  {
   "cell_type": "code",
   "execution_count": null,
   "id": "1ef673e3-638b-41ca-b83c-70d8c6836cd4",
   "metadata": {},
   "outputs": [],
   "source": []
  }
 ],
 "metadata": {
  "kernelspec": {
   "display_name": "Python 3 (ipykernel)",
   "language": "python",
   "name": "python3"
  },
  "language_info": {
   "codemirror_mode": {
    "name": "ipython",
    "version": 3
   },
   "file_extension": ".py",
   "mimetype": "text/x-python",
   "name": "python",
   "nbconvert_exporter": "python",
   "pygments_lexer": "ipython3",
   "version": "3.8.3"
  }
 },
 "nbformat": 4,
 "nbformat_minor": 5
}
